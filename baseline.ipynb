{
 "cells": [
  {
   "cell_type": "code",
   "execution_count": 1,
   "id": "8fecb680",
   "metadata": {},
   "outputs": [],
   "source": [
    "import pandas as pd\n",
    "import numpy as np\n",
    "import sklearn\n",
    "from sklearn.metrics import f1_score, accuracy_score, precision_score, recall_score\n",
    "from sklearn.linear_model import LogisticRegression\n",
    "import random\n",
    "\n",
    "np.random.seed(1984)"
   ]
  },
  {
   "cell_type": "code",
   "execution_count": 2,
   "id": "0c51f967",
   "metadata": {},
   "outputs": [],
   "source": [
    "data_train = pd.read_csv('train.csv')\n",
    "data_test = pd.read_csv('test.csv')"
   ]
  },
  {
   "cell_type": "code",
   "execution_count": 43,
   "id": "74145c0d",
   "metadata": {},
   "outputs": [],
   "source": [
    "check = pd.read_csv('sample_submission.csv')"
   ]
  },
  {
   "cell_type": "code",
   "execution_count": 48,
   "id": "af0d865f",
   "metadata": {},
   "outputs": [
    {
     "data": {
      "text/html": [
       "<div>\n",
       "<style scoped>\n",
       "    .dataframe tbody tr th:only-of-type {\n",
       "        vertical-align: middle;\n",
       "    }\n",
       "\n",
       "    .dataframe tbody tr th {\n",
       "        vertical-align: top;\n",
       "    }\n",
       "\n",
       "    .dataframe thead th {\n",
       "        text-align: right;\n",
       "    }\n",
       "</style>\n",
       "<table border=\"1\" class=\"dataframe\">\n",
       "  <thead>\n",
       "    <tr style=\"text-align: right;\">\n",
       "      <th></th>\n",
       "      <th>ID</th>\n",
       "      <th>DEBT</th>\n",
       "    </tr>\n",
       "  </thead>\n",
       "  <tbody>\n",
       "    <tr>\n",
       "      <th>0</th>\n",
       "      <td>ISU:22160896830459167 | ST_YEAR:2021 | DISC_ID...</td>\n",
       "      <td>1</td>\n",
       "    </tr>\n",
       "    <tr>\n",
       "      <th>1</th>\n",
       "      <td>ISU:22160896830459167 | ST_YEAR:2021 | DISC_ID...</td>\n",
       "      <td>0</td>\n",
       "    </tr>\n",
       "    <tr>\n",
       "      <th>2</th>\n",
       "      <td>ISU:22160896830459167 | ST_YEAR:2021 | DISC_ID...</td>\n",
       "      <td>0</td>\n",
       "    </tr>\n",
       "    <tr>\n",
       "      <th>3</th>\n",
       "      <td>ISU:22160896830459167 | ST_YEAR:2021 | DISC_ID...</td>\n",
       "      <td>0</td>\n",
       "    </tr>\n",
       "    <tr>\n",
       "      <th>4</th>\n",
       "      <td>ISU:22160896830459167 | ST_YEAR:2021 | DISC_ID...</td>\n",
       "      <td>0</td>\n",
       "    </tr>\n",
       "    <tr>\n",
       "      <th>...</th>\n",
       "      <td>...</td>\n",
       "      <td>...</td>\n",
       "    </tr>\n",
       "    <tr>\n",
       "      <th>30908</th>\n",
       "      <td>ISU:18441846113897984349 | ST_YEAR:2021 | DISC...</td>\n",
       "      <td>0</td>\n",
       "    </tr>\n",
       "    <tr>\n",
       "      <th>30909</th>\n",
       "      <td>ISU:18441846113897984349 | ST_YEAR:2021 | DISC...</td>\n",
       "      <td>0</td>\n",
       "    </tr>\n",
       "    <tr>\n",
       "      <th>30910</th>\n",
       "      <td>ISU:18441846113897984349 | ST_YEAR:2021 | DISC...</td>\n",
       "      <td>0</td>\n",
       "    </tr>\n",
       "    <tr>\n",
       "      <th>30911</th>\n",
       "      <td>ISU:18441846113897984349 | ST_YEAR:2021 | DISC...</td>\n",
       "      <td>0</td>\n",
       "    </tr>\n",
       "    <tr>\n",
       "      <th>30912</th>\n",
       "      <td>ISU:18441846113897984349 | ST_YEAR:2021 | DISC...</td>\n",
       "      <td>0</td>\n",
       "    </tr>\n",
       "  </tbody>\n",
       "</table>\n",
       "<p>30913 rows × 2 columns</p>\n",
       "</div>"
      ],
      "text/plain": [
       "                                                      ID  DEBT\n",
       "0      ISU:22160896830459167 | ST_YEAR:2021 | DISC_ID...     1\n",
       "1      ISU:22160896830459167 | ST_YEAR:2021 | DISC_ID...     0\n",
       "2      ISU:22160896830459167 | ST_YEAR:2021 | DISC_ID...     0\n",
       "3      ISU:22160896830459167 | ST_YEAR:2021 | DISC_ID...     0\n",
       "4      ISU:22160896830459167 | ST_YEAR:2021 | DISC_ID...     0\n",
       "...                                                  ...   ...\n",
       "30908  ISU:18441846113897984349 | ST_YEAR:2021 | DISC...     0\n",
       "30909  ISU:18441846113897984349 | ST_YEAR:2021 | DISC...     0\n",
       "30910  ISU:18441846113897984349 | ST_YEAR:2021 | DISC...     0\n",
       "30911  ISU:18441846113897984349 | ST_YEAR:2021 | DISC...     0\n",
       "30912  ISU:18441846113897984349 | ST_YEAR:2021 | DISC...     0\n",
       "\n",
       "[30913 rows x 2 columns]"
      ]
     },
     "execution_count": 48,
     "metadata": {},
     "output_type": "execute_result"
    }
   ],
   "source": [
    "check"
   ]
  },
  {
   "cell_type": "code",
   "execution_count": 3,
   "id": "2f069c3b-07d6-4a22-91c0-8049db33a676",
   "metadata": {},
   "outputs": [
    {
     "data": {
      "text/html": [
       "<div>\n",
       "<style scoped>\n",
       "    .dataframe tbody tr th:only-of-type {\n",
       "        vertical-align: middle;\n",
       "    }\n",
       "\n",
       "    .dataframe tbody tr th {\n",
       "        vertical-align: top;\n",
       "    }\n",
       "\n",
       "    .dataframe thead th {\n",
       "        text-align: right;\n",
       "    }\n",
       "</style>\n",
       "<table border=\"1\" class=\"dataframe\">\n",
       "  <thead>\n",
       "    <tr style=\"text-align: right;\">\n",
       "      <th></th>\n",
       "      <th>ISU</th>\n",
       "      <th>ST_YEAR</th>\n",
       "      <th>SEMESTER</th>\n",
       "      <th>DISC_ID</th>\n",
       "      <th>TYPE_NAME</th>\n",
       "      <th>DEBT</th>\n",
       "    </tr>\n",
       "  </thead>\n",
       "  <tbody>\n",
       "    <tr>\n",
       "      <th>0</th>\n",
       "      <td>17623928044460629977</td>\n",
       "      <td>2020</td>\n",
       "      <td>1</td>\n",
       "      <td>10502311854018326223</td>\n",
       "      <td>Зачет</td>\n",
       "      <td>0</td>\n",
       "    </tr>\n",
       "    <tr>\n",
       "      <th>1</th>\n",
       "      <td>17623928044460629977</td>\n",
       "      <td>2020</td>\n",
       "      <td>1</td>\n",
       "      <td>1601392918367593206</td>\n",
       "      <td>Зачет</td>\n",
       "      <td>0</td>\n",
       "    </tr>\n",
       "    <tr>\n",
       "      <th>2</th>\n",
       "      <td>17623928044460629977</td>\n",
       "      <td>2020</td>\n",
       "      <td>1</td>\n",
       "      <td>9559803959325174929</td>\n",
       "      <td>Зачет</td>\n",
       "      <td>0</td>\n",
       "    </tr>\n",
       "    <tr>\n",
       "      <th>3</th>\n",
       "      <td>17623928044460629977</td>\n",
       "      <td>2020</td>\n",
       "      <td>1</td>\n",
       "      <td>8955667882044263414</td>\n",
       "      <td>Зачет</td>\n",
       "      <td>0</td>\n",
       "    </tr>\n",
       "    <tr>\n",
       "      <th>4</th>\n",
       "      <td>17623928044460629977</td>\n",
       "      <td>2020</td>\n",
       "      <td>1</td>\n",
       "      <td>17741967398854095262</td>\n",
       "      <td>Экзамен</td>\n",
       "      <td>0</td>\n",
       "    </tr>\n",
       "  </tbody>\n",
       "</table>\n",
       "</div>"
      ],
      "text/plain": [
       "                    ISU  ST_YEAR  SEMESTER               DISC_ID TYPE_NAME  \\\n",
       "0  17623928044460629977     2020         1  10502311854018326223     Зачет   \n",
       "1  17623928044460629977     2020         1   1601392918367593206     Зачет   \n",
       "2  17623928044460629977     2020         1   9559803959325174929     Зачет   \n",
       "3  17623928044460629977     2020         1   8955667882044263414     Зачет   \n",
       "4  17623928044460629977     2020         1  17741967398854095262   Экзамен   \n",
       "\n",
       "   DEBT  \n",
       "0     0  \n",
       "1     0  \n",
       "2     0  \n",
       "3     0  \n",
       "4     0  "
      ]
     },
     "execution_count": 3,
     "metadata": {},
     "output_type": "execute_result"
    }
   ],
   "source": [
    "data_train.head()"
   ]
  },
  {
   "cell_type": "code",
   "execution_count": 4,
   "id": "0e256769",
   "metadata": {},
   "outputs": [],
   "source": [
    "all_st_df = []\n",
    "\n",
    "for st_year in data_train['ST_YEAR'].unique():\n",
    "    for semester in data_train['SEMESTER'].unique():\n",
    "        data_temp = (\n",
    "            data_train\n",
    "            .drop('DISC_ID', axis=1)\n",
    "            [(data_train['ST_YEAR'] < st_year) & (data_train['SEMESTER'] < semester)]\n",
    "            .groupby(['ISU', 'TYPE_NAME'], as_index=False)\n",
    "            .agg(DEBT_MEAN=('DEBT', 'mean'), DEBT_SUM=('DEBT', 'sum'), DEBT_COUNT=('DEBT', 'count')\n",
    "            )\n",
    "        )\n",
    "        data_temp['ST_YEAR'] = st_year\n",
    "        data_temp['SEMESTER'] = semester\n",
    "        \n",
    "        all_st_df.append(data_temp)"
   ]
  },
  {
   "cell_type": "code",
   "execution_count": 5,
   "id": "2d97bcf9",
   "metadata": {},
   "outputs": [],
   "source": [
    "all_st_df = pd.concat(all_st_df)"
   ]
  },
  {
   "cell_type": "code",
   "execution_count": 6,
   "id": "af72f62a",
   "metadata": {},
   "outputs": [],
   "source": [
    "all_disc_df = []\n",
    "\n",
    "for st_year in data_train['ST_YEAR'].unique():\n",
    "    for semester in data_train['SEMESTER'].unique():\n",
    "        data_temp = (\n",
    "            data_train\n",
    "            .drop('ISU', axis=1)\n",
    "            [(data_train['ST_YEAR'] < st_year) & (data_train['SEMESTER'] < semester)]\n",
    "            .groupby(['DISC_ID', 'TYPE_NAME'], as_index=False)\n",
    "            .agg(DISC_DEBT_MEAN=('DEBT', 'mean'), DISC_DEBT_SUM=('DEBT', 'sum'), DISC_DEBT_COUNT=('DEBT', 'count')\n",
    "            )\n",
    "        )\n",
    "        data_temp['ST_YEAR'] = st_year\n",
    "        data_temp['SEMESTER'] = semester\n",
    "        \n",
    "        all_disc_df.append(data_temp)"
   ]
  },
  {
   "cell_type": "code",
   "execution_count": 7,
   "id": "069a2fbc",
   "metadata": {},
   "outputs": [],
   "source": [
    "all_disc_df = pd.concat(all_disc_df)"
   ]
  },
  {
   "cell_type": "code",
   "execution_count": 8,
   "id": "4cce95ad",
   "metadata": {},
   "outputs": [],
   "source": [
    "data_train = data_train.merge(all_st_df, on=['ISU', 'ST_YEAR', 'SEMESTER', 'TYPE_NAME'], how='left')"
   ]
  },
  {
   "cell_type": "code",
   "execution_count": 9,
   "id": "1bd3017b",
   "metadata": {},
   "outputs": [],
   "source": [
    "data_train = data_train.merge(all_disc_df, on=['DISC_ID', 'ST_YEAR', 'SEMESTER', 'TYPE_NAME'], how='left')"
   ]
  },
  {
   "cell_type": "code",
   "execution_count": 10,
   "id": "befa3a0d",
   "metadata": {},
   "outputs": [],
   "source": [
    "data_train = data_train.fillna(0)"
   ]
  },
  {
   "cell_type": "code",
   "execution_count": 11,
   "id": "6e360161",
   "metadata": {},
   "outputs": [
    {
     "data": {
      "text/plain": [
       "2020    87558\n",
       "2019    60631\n",
       "2018    30710\n",
       "Name: ST_YEAR, dtype: int64"
      ]
     },
     "execution_count": 11,
     "metadata": {},
     "output_type": "execute_result"
    }
   ],
   "source": [
    "data_train['ST_YEAR'].value_counts()"
   ]
  },
  {
   "cell_type": "code",
   "execution_count": 12,
   "id": "f0a0ca22",
   "metadata": {},
   "outputs": [],
   "source": [
    "data_train = data_train.join(pd.get_dummies(data_train['TYPE_NAME'], prefix='TYPE_NAME'))"
   ]
  },
  {
   "cell_type": "code",
   "execution_count": 13,
   "id": "e6f9d38e",
   "metadata": {},
   "outputs": [],
   "source": [
    "cols_to_drop = ['ISU', 'DISC_ID', 'TYPE_NAME']"
   ]
  },
  {
   "cell_type": "code",
   "execution_count": 14,
   "id": "cb6f601f",
   "metadata": {},
   "outputs": [],
   "source": [
    "train = data_train[data_train['ST_YEAR'].isin([2018, 2019])].drop(cols_to_drop, axis=1)\n",
    "test = data_train[data_train['ST_YEAR'] == 2020].drop(cols_to_drop, axis=1)"
   ]
  },
  {
   "cell_type": "code",
   "execution_count": 15,
   "id": "2dff8346",
   "metadata": {},
   "outputs": [],
   "source": [
    "X_train = train.drop(['DEBT'], axis=1)\n",
    "y_train = train['DEBT']\n",
    "\n",
    "X_test = test.drop(['DEBT'], axis=1)\n",
    "y_test = test['DEBT']"
   ]
  },
  {
   "cell_type": "code",
   "execution_count": 16,
   "id": "78b2ce42",
   "metadata": {},
   "outputs": [],
   "source": [
    "model = LogisticRegression(class_weight='balanced')"
   ]
  },
  {
   "cell_type": "code",
   "execution_count": 17,
   "id": "edf48279",
   "metadata": {},
   "outputs": [],
   "source": [
    "model.fit(X_train, y_train)\n",
    "preds = model.predict(X_test)"
   ]
  },
  {
   "cell_type": "code",
   "execution_count": 18,
   "id": "7e714361",
   "metadata": {},
   "outputs": [
    {
     "name": "stdout",
     "output_type": "stream",
     "text": [
      "f1 score 0.12633139343362249\n",
      "accuracy score 0.6365152241942483\n",
      "precision score 0.07035191243464702\n",
      "recall score 0.6183821553345875\n"
     ]
    }
   ],
   "source": [
    "print('f1 score', f1_score(y_test, preds))\n",
    "print('accuracy score', accuracy_score(y_test, preds))\n",
    "print('precision score', precision_score(y_test, preds))\n",
    "print('recall score', recall_score(y_test, preds))"
   ]
  },
  {
   "cell_type": "code",
   "execution_count": 19,
   "id": "771cd461",
   "metadata": {},
   "outputs": [
    {
     "name": "stderr",
     "output_type": "stream",
     "text": [
      "/Users/konstantinpavlov/opt/anaconda3/lib/python3.9/site-packages/sklearn/linear_model/_logistic.py:763: ConvergenceWarning: lbfgs failed to converge (status=1):\n",
      "STOP: TOTAL NO. of ITERATIONS REACHED LIMIT.\n",
      "\n",
      "Increase the number of iterations (max_iter) or scale the data as shown in:\n",
      "    https://scikit-learn.org/stable/modules/preprocessing.html\n",
      "Please also refer to the documentation for alternative solver options:\n",
      "    https://scikit-learn.org/stable/modules/linear_model.html#logistic-regression\n",
      "  n_iter_i = _check_optimize_result(\n"
     ]
    }
   ],
   "source": [
    "# fit on all data\n",
    "X = data_train.drop(cols_to_drop + ['DEBT'], axis=1)\n",
    "y = data_train['DEBT']\n",
    "\n",
    "model.fit(X, y);"
   ]
  },
  {
   "cell_type": "code",
   "execution_count": 20,
   "id": "373718a8",
   "metadata": {},
   "outputs": [],
   "source": [
    "# collect data for test"
   ]
  },
  {
   "cell_type": "code",
   "execution_count": 21,
   "id": "d59833da",
   "metadata": {},
   "outputs": [],
   "source": [
    "all_st_df_test = []\n",
    "\n",
    "for st_year in data_train['ST_YEAR'].unique():\n",
    "    for semester in data_train['SEMESTER'].unique():\n",
    "        data_temp = (\n",
    "            data_train\n",
    "            .drop('DISC_ID', axis=1)\n",
    "            [(data_train['ST_YEAR'] <= st_year) & (data_train['SEMESTER'] <= semester)]\n",
    "            .groupby(['ISU', 'TYPE_NAME'], as_index=False)\n",
    "            .agg(DEBT_MEAN=('DEBT', 'mean'), DEBT_SUM=('DEBT', 'sum'), DEBT_COUNT=('DEBT', 'count')\n",
    "            )\n",
    "        )\n",
    "        data_temp['ST_YEAR'] = st_year + 1\n",
    "        data_temp['SEMESTER'] = semester + 1\n",
    "        \n",
    "        all_st_df_test.append(data_temp)\n",
    "        \n",
    "all_disc_df_test = []\n",
    "\n",
    "for st_year in data_train['ST_YEAR'].unique():\n",
    "    for semester in data_train['SEMESTER'].unique():\n",
    "        data_temp = (\n",
    "            data_train\n",
    "            .drop('ISU', axis=1)\n",
    "            [(data_train['ST_YEAR'] <= st_year) & (data_train['SEMESTER'] <= semester)]\n",
    "            .groupby(['DISC_ID', 'TYPE_NAME'], as_index=False)\n",
    "            .agg(DISC_DEBT_MEAN=('DEBT', 'mean'), DISC_DEBT_SUM=('DEBT', 'sum'), DISC_DEBT_COUNT=('DEBT', 'count')\n",
    "            )\n",
    "        )\n",
    "        data_temp['ST_YEAR'] = st_year + 1\n",
    "        data_temp['SEMESTER'] = semester + 1\n",
    "        \n",
    "        all_disc_df_test.append(data_temp)\n",
    "        \n",
    "        \n",
    "all_st_df_test = pd.concat(all_st_df_test)\n",
    "all_disc_df_test = pd.concat(all_disc_df_test)"
   ]
  },
  {
   "cell_type": "code",
   "execution_count": 22,
   "id": "07d0ab3b",
   "metadata": {},
   "outputs": [],
   "source": [
    "data_test = data_test.merge(all_st_df_test, on=['ISU', 'SEMESTER', 'ST_YEAR', 'TYPE_NAME'], how='left')\n",
    "data_test = data_test.merge(all_disc_df_test, on=['DISC_ID', 'SEMESTER', 'ST_YEAR', 'TYPE_NAME'], how='left')"
   ]
  },
  {
   "cell_type": "code",
   "execution_count": 23,
   "id": "33df1094",
   "metadata": {},
   "outputs": [],
   "source": [
    "data_test = data_test.fillna(0)"
   ]
  },
  {
   "cell_type": "code",
   "execution_count": 24,
   "id": "25f33537",
   "metadata": {},
   "outputs": [],
   "source": [
    "data_test = data_test.join(pd.get_dummies(data_test['TYPE_NAME'], prefix='TYPE_NAME'))"
   ]
  },
  {
   "cell_type": "code",
   "execution_count": 25,
   "id": "4331f90d-e5d0-4e07-b3a2-4aee3d0f7ffa",
   "metadata": {},
   "outputs": [],
   "source": [
    "cols_to_drop_test = ['ISU', 'DISC_ID', 'TYPE_NAME']"
   ]
  },
  {
   "cell_type": "code",
   "execution_count": 26,
   "id": "76ebfaf4",
   "metadata": {},
   "outputs": [],
   "source": [
    "test_features = data_test.drop(cols_to_drop_test, axis=1)"
   ]
  },
  {
   "cell_type": "code",
   "execution_count": 27,
   "id": "9756b974",
   "metadata": {},
   "outputs": [],
   "source": [
    "final_preds = model.predict(test_features)"
   ]
  },
  {
   "cell_type": "code",
   "execution_count": 28,
   "id": "b0dbc095",
   "metadata": {},
   "outputs": [],
   "source": [
    "data_test['DEBT'] = final_preds"
   ]
  },
  {
   "cell_type": "code",
   "execution_count": 29,
   "id": "8a93ae7f-f866-4652-9f26-4d1ebc159e71",
   "metadata": {},
   "outputs": [],
   "source": [
    "data_test['ID'] = data_test[['ISU', 'ST_YEAR', 'DISC_ID', 'SEMESTER', 'TYPE_NAME']].apply(\n",
    "        lambda x: f'ISU:{x[0]} | ST_YEAR:{x[1]} | DISC_ID:{x[2]} | SEMESTER:{x[3]} | TYPE_NAME:{x[4]}', axis =1)"
   ]
  },
  {
   "cell_type": "code",
   "execution_count": 30,
   "id": "510970a9",
   "metadata": {},
   "outputs": [],
   "source": [
    "res = data_test[['ID', 'DEBT']]"
   ]
  },
  {
   "cell_type": "code",
   "execution_count": 31,
   "id": "d77917d4",
   "metadata": {},
   "outputs": [],
   "source": [
    "res.to_csv('baseline_preds.csv', index=False)"
   ]
  },
  {
   "cell_type": "code",
   "execution_count": 35,
   "id": "02c409a0",
   "metadata": {},
   "outputs": [
    {
     "data": {
      "text/html": [
       "<div>\n",
       "<style scoped>\n",
       "    .dataframe tbody tr th:only-of-type {\n",
       "        vertical-align: middle;\n",
       "    }\n",
       "\n",
       "    .dataframe tbody tr th {\n",
       "        vertical-align: top;\n",
       "    }\n",
       "\n",
       "    .dataframe thead th {\n",
       "        text-align: right;\n",
       "    }\n",
       "</style>\n",
       "<table border=\"1\" class=\"dataframe\">\n",
       "  <thead>\n",
       "    <tr style=\"text-align: right;\">\n",
       "      <th></th>\n",
       "      <th>ID</th>\n",
       "      <th>DEBT</th>\n",
       "    </tr>\n",
       "  </thead>\n",
       "  <tbody>\n",
       "    <tr>\n",
       "      <th>0</th>\n",
       "      <td>ISU:22160896830459167 | ST_YEAR:2021 | DISC_ID...</td>\n",
       "      <td>1</td>\n",
       "    </tr>\n",
       "    <tr>\n",
       "      <th>1</th>\n",
       "      <td>ISU:22160896830459167 | ST_YEAR:2021 | DISC_ID...</td>\n",
       "      <td>0</td>\n",
       "    </tr>\n",
       "    <tr>\n",
       "      <th>2</th>\n",
       "      <td>ISU:22160896830459167 | ST_YEAR:2021 | DISC_ID...</td>\n",
       "      <td>0</td>\n",
       "    </tr>\n",
       "    <tr>\n",
       "      <th>3</th>\n",
       "      <td>ISU:22160896830459167 | ST_YEAR:2021 | DISC_ID...</td>\n",
       "      <td>0</td>\n",
       "    </tr>\n",
       "    <tr>\n",
       "      <th>4</th>\n",
       "      <td>ISU:22160896830459167 | ST_YEAR:2021 | DISC_ID...</td>\n",
       "      <td>0</td>\n",
       "    </tr>\n",
       "    <tr>\n",
       "      <th>...</th>\n",
       "      <td>...</td>\n",
       "      <td>...</td>\n",
       "    </tr>\n",
       "    <tr>\n",
       "      <th>30908</th>\n",
       "      <td>ISU:18441846113897984349 | ST_YEAR:2021 | DISC...</td>\n",
       "      <td>0</td>\n",
       "    </tr>\n",
       "    <tr>\n",
       "      <th>30909</th>\n",
       "      <td>ISU:18441846113897984349 | ST_YEAR:2021 | DISC...</td>\n",
       "      <td>0</td>\n",
       "    </tr>\n",
       "    <tr>\n",
       "      <th>30910</th>\n",
       "      <td>ISU:18441846113897984349 | ST_YEAR:2021 | DISC...</td>\n",
       "      <td>0</td>\n",
       "    </tr>\n",
       "    <tr>\n",
       "      <th>30911</th>\n",
       "      <td>ISU:18441846113897984349 | ST_YEAR:2021 | DISC...</td>\n",
       "      <td>0</td>\n",
       "    </tr>\n",
       "    <tr>\n",
       "      <th>30912</th>\n",
       "      <td>ISU:18441846113897984349 | ST_YEAR:2021 | DISC...</td>\n",
       "      <td>0</td>\n",
       "    </tr>\n",
       "  </tbody>\n",
       "</table>\n",
       "<p>30913 rows × 2 columns</p>\n",
       "</div>"
      ],
      "text/plain": [
       "                                                      ID  DEBT\n",
       "0      ISU:22160896830459167 | ST_YEAR:2021 | DISC_ID...     1\n",
       "1      ISU:22160896830459167 | ST_YEAR:2021 | DISC_ID...     0\n",
       "2      ISU:22160896830459167 | ST_YEAR:2021 | DISC_ID...     0\n",
       "3      ISU:22160896830459167 | ST_YEAR:2021 | DISC_ID...     0\n",
       "4      ISU:22160896830459167 | ST_YEAR:2021 | DISC_ID...     0\n",
       "...                                                  ...   ...\n",
       "30908  ISU:18441846113897984349 | ST_YEAR:2021 | DISC...     0\n",
       "30909  ISU:18441846113897984349 | ST_YEAR:2021 | DISC...     0\n",
       "30910  ISU:18441846113897984349 | ST_YEAR:2021 | DISC...     0\n",
       "30911  ISU:18441846113897984349 | ST_YEAR:2021 | DISC...     0\n",
       "30912  ISU:18441846113897984349 | ST_YEAR:2021 | DISC...     0\n",
       "\n",
       "[30913 rows x 2 columns]"
      ]
     },
     "execution_count": 35,
     "metadata": {},
     "output_type": "execute_result"
    }
   ],
   "source": [
    "check"
   ]
  },
  {
   "cell_type": "code",
   "execution_count": 47,
   "id": "eda434ff",
   "metadata": {},
   "outputs": [
    {
     "data": {
      "text/plain": [
       "1.0"
      ]
     },
     "execution_count": 47,
     "metadata": {},
     "output_type": "execute_result"
    }
   ],
   "source": [
    "f1_score(res.DEBT, check.DEBT)"
   ]
  },
  {
   "cell_type": "code",
   "execution_count": null,
   "id": "d0c58b6c",
   "metadata": {},
   "outputs": [],
   "source": []
  }
 ],
 "metadata": {
  "kernelspec": {
   "display_name": "Python 3 (ipykernel)",
   "language": "python",
   "name": "python3"
  },
  "language_info": {
   "codemirror_mode": {
    "name": "ipython",
    "version": 3
   },
   "file_extension": ".py",
   "mimetype": "text/x-python",
   "name": "python",
   "nbconvert_exporter": "python",
   "pygments_lexer": "ipython3",
   "version": "3.9.7"
  }
 },
 "nbformat": 4,
 "nbformat_minor": 5
}
